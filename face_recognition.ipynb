{
  "nbformat": 4,
  "nbformat_minor": 0,
  "metadata": {
    "colab": {
      "name": "face_recognition.ipynb",
      "version": "0.3.2",
      "provenance": [],
      "include_colab_link": true
    },
    "kernelspec": {
      "name": "python3",
      "display_name": "Python 3"
    },
    "accelerator": "GPU"
  },
  "cells": [
    {
      "cell_type": "markdown",
      "metadata": {
        "id": "view-in-github",
        "colab_type": "text"
      },
      "source": [
        "<a href=\"https://colab.research.google.com/github/dibya001/Face-Recgonition-/blob/master/face_recognition.ipynb\" target=\"_parent\"><img src=\"https://colab.research.google.com/assets/colab-badge.svg\" alt=\"Open In Colab\"/></a>"
      ]
    },
    {
      "metadata": {
        "id": "tt3dTxOhLone",
        "colab_type": "code",
        "colab": {
          "base_uri": "https://localhost:8080/",
          "height": 35
        },
        "outputId": "5d2e34ad-5ac6-47a9-b791-5803ab5d1a2a"
      },
      "cell_type": "code",
      "source": [
        "!git clone https://github.com/dibya001/Face-Recgonition-.git"
      ],
      "execution_count": 1,
      "outputs": [
        {
          "output_type": "stream",
          "text": [
            "fatal: destination path 'Face-Recgonition-' already exists and is not an empty directory.\n"
          ],
          "name": "stdout"
        }
      ]
    },
    {
      "metadata": {
        "id": "iPZ-TcjiLri-",
        "colab_type": "code",
        "colab": {
          "base_uri": "https://localhost:8080/",
          "height": 367
        },
        "outputId": "6b660b47-fdb9-4ea5-fb62-0a00566e2bb3"
      },
      "cell_type": "code",
      "source": [
        "!pip install -U --pre tensorflow"
      ],
      "execution_count": 2,
      "outputs": [
        {
          "output_type": "stream",
          "text": [
            "Requirement already up-to-date: tensorflow in /usr/local/lib/python3.6/dist-packages (2.0.0a0)\n",
            "Requirement already satisfied, skipping upgrade: six>=1.10.0 in /usr/local/lib/python3.6/dist-packages (from tensorflow) (1.11.0)\n",
            "Requirement already satisfied, skipping upgrade: tf-estimator-nightly<1.14.0.dev2019030116,>=1.14.0.dev2019030115 in /usr/local/lib/python3.6/dist-packages (from tensorflow) (1.14.0.dev2019030115)\n",
            "Requirement already satisfied, skipping upgrade: numpy<2.0,>=1.14.5 in /usr/local/lib/python3.6/dist-packages (from tensorflow) (1.14.6)\n",
            "Requirement already satisfied, skipping upgrade: tb-nightly<1.14.0a20190302,>=1.14.0a20190301 in /usr/local/lib/python3.6/dist-packages (from tensorflow) (1.14.0a20190301)\n",
            "Requirement already satisfied, skipping upgrade: protobuf>=3.6.1 in /usr/local/lib/python3.6/dist-packages (from tensorflow) (3.6.1)\n",
            "Requirement already satisfied, skipping upgrade: google-pasta>=0.1.2 in /usr/local/lib/python3.6/dist-packages (from tensorflow) (0.1.4)\n",
            "Requirement already satisfied, skipping upgrade: grpcio>=1.8.6 in /usr/local/lib/python3.6/dist-packages (from tensorflow) (1.15.0)\n",
            "Requirement already satisfied, skipping upgrade: gast>=0.2.0 in /usr/local/lib/python3.6/dist-packages (from tensorflow) (0.2.2)\n",
            "Requirement already satisfied, skipping upgrade: termcolor>=1.1.0 in /usr/local/lib/python3.6/dist-packages (from tensorflow) (1.1.0)\n",
            "Requirement already satisfied, skipping upgrade: keras-applications>=1.0.6 in /usr/local/lib/python3.6/dist-packages (from tensorflow) (1.0.7)\n",
            "Requirement already satisfied, skipping upgrade: absl-py>=0.7.0 in /usr/local/lib/python3.6/dist-packages (from tensorflow) (0.7.0)\n",
            "Requirement already satisfied, skipping upgrade: keras-preprocessing>=1.0.5 in /usr/local/lib/python3.6/dist-packages (from tensorflow) (1.0.9)\n",
            "Requirement already satisfied, skipping upgrade: astor>=0.6.0 in /usr/local/lib/python3.6/dist-packages (from tensorflow) (0.7.1)\n",
            "Requirement already satisfied, skipping upgrade: wheel>=0.26 in /usr/local/lib/python3.6/dist-packages (from tensorflow) (0.33.1)\n",
            "Requirement already satisfied, skipping upgrade: markdown>=2.6.8 in /usr/local/lib/python3.6/dist-packages (from tb-nightly<1.14.0a20190302,>=1.14.0a20190301->tensorflow) (3.0.1)\n",
            "Requirement already satisfied, skipping upgrade: werkzeug>=0.11.15 in /usr/local/lib/python3.6/dist-packages (from tb-nightly<1.14.0a20190302,>=1.14.0a20190301->tensorflow) (0.14.1)\n",
            "Requirement already satisfied, skipping upgrade: setuptools in /usr/local/lib/python3.6/dist-packages (from protobuf>=3.6.1->tensorflow) (40.8.0)\n",
            "Requirement already satisfied, skipping upgrade: h5py in /usr/local/lib/python3.6/dist-packages (from keras-applications>=1.0.6->tensorflow) (2.8.0)\n"
          ],
          "name": "stdout"
        }
      ]
    },
    {
      "metadata": {
        "id": "5Hvnsy_iLzbP",
        "colab_type": "code",
        "colab": {}
      },
      "cell_type": "code",
      "source": [
        "import tensorflow as tf\n",
        "import tensorflow.keras as keras\n"
      ],
      "execution_count": 0,
      "outputs": []
    },
    {
      "metadata": {
        "id": "8iFvRS2OMMU-",
        "colab_type": "code",
        "colab": {}
      },
      "cell_type": "code",
      "source": [
        "import numpy as np\n",
        "from PIL import Image\n",
        "import matplotlib.pyplot as plt\n",
        "import matplotlib.image as mpimg\n",
        "from sklearn.model_selection import train_test_split\n",
        "import os"
      ],
      "execution_count": 0,
      "outputs": []
    },
    {
      "metadata": {
        "id": "jwDqf51PMTwS",
        "colab_type": "code",
        "colab": {}
      },
      "cell_type": "code",
      "source": [
        "train=np.zeros((112*92,1))\n",
        "test=np.zeros((112*92,1))\n",
        "y_train=np.array([])\n",
        "y_test=np.array([])\n",
        "folder='/content/Face-Recgonition-/att_faces'\n",
        "i=0\n",
        "for f in os.listdir(folder):\n",
        "    vals=np.zeros((112*92,1))\n",
        "    x1=np.array([])\n",
        "    for f1 in os.listdir(os.path.join(folder,f)):\n",
        "        k=f\n",
        "        class_label =int(k.strip('s'))-1\n",
        "        x1=np.append(x1, class_label) #0 to 39 class\n",
        "        ipath=os.path.join(os.path.join(folder,f),f1)\n",
        "        ipath=ipath.replace('\\\\','/')#for windows\n",
        "        img=Image.open(ipath)\n",
        "        iarr=np.array(img)\n",
        "        iarr=iarr.reshape(112*92,1)\n",
        "        vals=np.hstack((vals,iarr))\n",
        "    \n",
        "    val2=vals[:,1:]\n",
        "    #print(vals.shape)\n",
        "    val3=val2.T\n",
        "    x_train,x_test,ytr,ytest=train_test_split(val3,x1,test_size=0.4)\n",
        "    x_train=x_train.T\n",
        "    x_test=x_test.T\n",
        "    train=np.hstack((train,x_train))\n",
        "    test=np.hstack((test,x_test))\n",
        "    ytr.shape=(1,6)\n",
        "    ytest.shape=(1,4)\n",
        "    y_train=np.append(y_train,ytr)\n",
        "    y_test=np.append(y_test,ytest)\n",
        "train=train[:,1:]\n",
        "test=test[:,1:]\n",
        "y_train.shape=(1,240)\n",
        "y_test.shape=(1,160)"
      ],
      "execution_count": 0,
      "outputs": []
    },
    {
      "metadata": {
        "id": "ymKz1R3QM9LW",
        "colab_type": "code",
        "colab": {
          "base_uri": "https://localhost:8080/",
          "height": 35
        },
        "outputId": "a383ef05-a212-43c1-9e44-57357d62e7f0"
      },
      "cell_type": "code",
      "source": [
        "train.shape"
      ],
      "execution_count": 4,
      "outputs": [
        {
          "output_type": "execute_result",
          "data": {
            "text/plain": [
              "(10304, 240)"
            ]
          },
          "metadata": {
            "tags": []
          },
          "execution_count": 4
        }
      ]
    },
    {
      "metadata": {
        "id": "V7VGPyNQO6KI",
        "colab_type": "code",
        "colab": {
          "base_uri": "https://localhost:8080/",
          "height": 35
        },
        "outputId": "85da1df2-e60b-40be-c1e8-d3f525176fde"
      },
      "cell_type": "code",
      "source": [
        "test.shape"
      ],
      "execution_count": 5,
      "outputs": [
        {
          "output_type": "execute_result",
          "data": {
            "text/plain": [
              "(10304, 160)"
            ]
          },
          "metadata": {
            "tags": []
          },
          "execution_count": 5
        }
      ]
    },
    {
      "metadata": {
        "id": "goVszmddO-0U",
        "colab_type": "code",
        "colab": {
          "base_uri": "https://localhost:8080/",
          "height": 35
        },
        "outputId": "50b62293-e656-408b-ca63-037c53c9cc75"
      },
      "cell_type": "code",
      "source": [
        "np.max(train)"
      ],
      "execution_count": 6,
      "outputs": [
        {
          "output_type": "execute_result",
          "data": {
            "text/plain": [
              "251.0"
            ]
          },
          "metadata": {
            "tags": []
          },
          "execution_count": 6
        }
      ]
    },
    {
      "metadata": {
        "id": "GMEy3i_BPDVB",
        "colab_type": "code",
        "colab": {
          "base_uri": "https://localhost:8080/",
          "height": 35
        },
        "outputId": "0e40af77-36cd-424b-c31d-787dade46a17"
      },
      "cell_type": "code",
      "source": [
        "np.min(train)"
      ],
      "execution_count": 7,
      "outputs": [
        {
          "output_type": "execute_result",
          "data": {
            "text/plain": [
              "0.0"
            ]
          },
          "metadata": {
            "tags": []
          },
          "execution_count": 7
        }
      ]
    },
    {
      "metadata": {
        "id": "v0VoVhEvPFU3",
        "colab_type": "code",
        "colab": {}
      },
      "cell_type": "code",
      "source": [
        "train=train/255.0\n",
        "test=test/255.0"
      ],
      "execution_count": 0,
      "outputs": []
    },
    {
      "metadata": {
        "id": "xU7jSRr1FL_t",
        "colab_type": "code",
        "colab": {}
      },
      "cell_type": "code",
      "source": [
        "train = (train-np.mean(train))/np.std(train)"
      ],
      "execution_count": 0,
      "outputs": []
    },
    {
      "metadata": {
        "id": "xWOD79oxFXbb",
        "colab_type": "code",
        "colab": {}
      },
      "cell_type": "code",
      "source": [
        "test = (test-np.mean(test))/np.std(test)"
      ],
      "execution_count": 0,
      "outputs": []
    },
    {
      "metadata": {
        "id": "QR9Ok0YAQxOg",
        "colab_type": "code",
        "colab": {}
      },
      "cell_type": "code",
      "source": [
        "train=train.T"
      ],
      "execution_count": 0,
      "outputs": []
    },
    {
      "metadata": {
        "id": "b86DgAIgQ49T",
        "colab_type": "code",
        "colab": {}
      },
      "cell_type": "code",
      "source": [
        "y_train=y_train.T"
      ],
      "execution_count": 0,
      "outputs": []
    },
    {
      "metadata": {
        "id": "srStv1cZPL2P",
        "colab_type": "code",
        "colab": {
          "base_uri": "https://localhost:8080/",
          "height": 243
        },
        "outputId": "33ea430d-5e75-4dff-d453-279ce671c706"
      },
      "cell_type": "code",
      "source": [
        "y_test"
      ],
      "execution_count": 13,
      "outputs": [
        {
          "output_type": "execute_result",
          "data": {
            "text/plain": [
              "array([[19., 19., 19., 19., 29., 29., 29., 29., 31., 31., 31., 31., 13.,\n",
              "        13., 13., 13., 30., 30., 30., 30., 18., 18., 18., 18., 39., 39.,\n",
              "        39., 39.,  7.,  7.,  7.,  7., 38., 38., 38., 38., 34., 34., 34.,\n",
              "        34., 36., 36., 36., 36., 37., 37., 37., 37.,  9.,  9.,  9.,  9.,\n",
              "        14., 14., 14., 14., 25., 25., 25., 25.,  5.,  5.,  5.,  5.,  2.,\n",
              "         2.,  2.,  2., 27., 27., 27., 27., 35., 35., 35., 35., 12., 12.,\n",
              "        12., 12.,  1.,  1.,  1.,  1., 26., 26., 26., 26.,  3.,  3.,  3.,\n",
              "         3., 22., 22., 22., 22., 21., 21., 21., 21.,  6.,  6.,  6.,  6.,\n",
              "         4.,  4.,  4.,  4., 16., 16., 16., 16., 15., 15., 15., 15., 17.,\n",
              "        17., 17., 17., 23., 23., 23., 23., 11., 11., 11., 11.,  0.,  0.,\n",
              "         0.,  0., 20., 20., 20., 20.,  8.,  8.,  8.,  8., 24., 24., 24.,\n",
              "        24., 33., 33., 33., 33., 10., 10., 10., 10., 28., 28., 28., 28.,\n",
              "        32., 32., 32., 32.]])"
            ]
          },
          "metadata": {
            "tags": []
          },
          "execution_count": 13
        }
      ]
    },
    {
      "metadata": {
        "id": "Tu75qs2SPPl4",
        "colab_type": "code",
        "colab": {}
      },
      "cell_type": "code",
      "source": [
        "## Model\n",
        "\n",
        "model = keras.Sequential([\n",
        "    keras.layers.Dense(units=128, input_shape=[10304],activation='relu'),\n",
        "    keras.layers.Dense(units=40,activation='softmax')\n",
        "])"
      ],
      "execution_count": 0,
      "outputs": []
    },
    {
      "metadata": {
        "id": "XBiRlb64PtGU",
        "colab_type": "code",
        "colab": {}
      },
      "cell_type": "code",
      "source": [
        "loss = 'sparse_categorical_crossentropy'\n",
        "opt = keras.optimizers.Adam(learning_rate=0.02)\n",
        "model.compile(optimizer=opt, loss=loss)"
      ],
      "execution_count": 0,
      "outputs": []
    },
    {
      "metadata": {
        "id": "z_rKaUVpQa-e",
        "colab_type": "code",
        "colab": {
          "base_uri": "https://localhost:8080/",
          "height": 728
        },
        "outputId": "326db89f-a2f6-446f-ccc1-708267507f4d"
      },
      "cell_type": "code",
      "source": [
        "model.fit(train, y_train, epochs=20, batch_size=40, verbose=1)"
      ],
      "execution_count": 16,
      "outputs": [
        {
          "output_type": "stream",
          "text": [
            "Epoch 1/20\n",
            "240/240 [==============================] - 0s 766us/sample - loss: 104.4680\n",
            "Epoch 2/20\n",
            "240/240 [==============================] - 0s 288us/sample - loss: 28.3753\n",
            "Epoch 3/20\n",
            "240/240 [==============================] - 0s 280us/sample - loss: 6.9154\n",
            "Epoch 4/20\n",
            "240/240 [==============================] - 0s 283us/sample - loss: 3.3385\n",
            "Epoch 5/20\n",
            "240/240 [==============================] - 0s 285us/sample - loss: 2.7919\n",
            "Epoch 6/20\n",
            "240/240 [==============================] - 0s 283us/sample - loss: 2.2098\n",
            "Epoch 7/20\n",
            "240/240 [==============================] - 0s 294us/sample - loss: 2.1080\n",
            "Epoch 8/20\n",
            "240/240 [==============================] - 0s 342us/sample - loss: 1.9505\n",
            "Epoch 9/20\n",
            "240/240 [==============================] - 0s 380us/sample - loss: 1.9416\n",
            "Epoch 10/20\n",
            "240/240 [==============================] - 0s 291us/sample - loss: 1.7888\n",
            "Epoch 11/20\n",
            "240/240 [==============================] - 0s 293us/sample - loss: 1.7398\n",
            "Epoch 12/20\n",
            "240/240 [==============================] - 0s 292us/sample - loss: 1.7224\n",
            "Epoch 13/20\n",
            "240/240 [==============================] - 0s 299us/sample - loss: 1.7190\n",
            "Epoch 14/20\n",
            "240/240 [==============================] - 0s 306us/sample - loss: 1.7109\n",
            "Epoch 15/20\n",
            "240/240 [==============================] - 0s 333us/sample - loss: 1.6350\n",
            "Epoch 16/20\n",
            "240/240 [==============================] - 0s 316us/sample - loss: 1.6255\n",
            "Epoch 17/20\n",
            "240/240 [==============================] - 0s 305us/sample - loss: 1.6007\n",
            "Epoch 18/20\n",
            "240/240 [==============================] - 0s 287us/sample - loss: 1.5109\n",
            "Epoch 19/20\n",
            "240/240 [==============================] - 0s 303us/sample - loss: 1.5134\n",
            "Epoch 20/20\n",
            "240/240 [==============================] - 0s 311us/sample - loss: 1.4617\n"
          ],
          "name": "stdout"
        },
        {
          "output_type": "execute_result",
          "data": {
            "text/plain": [
              "<tensorflow.python.keras.callbacks.History at 0x7f04b6c51860>"
            ]
          },
          "metadata": {
            "tags": []
          },
          "execution_count": 16
        }
      ]
    },
    {
      "metadata": {
        "id": "hDouW3JdQtWK",
        "colab_type": "code",
        "colab": {
          "base_uri": "https://localhost:8080/",
          "height": 52
        },
        "outputId": "a8731aaa-d785-48fa-c4ef-c0fb015c9c6a"
      },
      "cell_type": "code",
      "source": [
        "#prediction time\n",
        "test=test.T\n",
        "y_test = y_test.T\n",
        "model.evaluate(test, y_test, batch_size=40)"
      ],
      "execution_count": 17,
      "outputs": [
        {
          "output_type": "stream",
          "text": [
            "160/160 [==============================] - 0s 390us/sample - loss: 2.6811\n"
          ],
          "name": "stdout"
        },
        {
          "output_type": "execute_result",
          "data": {
            "text/plain": [
              "2.6811387836933136"
            ]
          },
          "metadata": {
            "tags": []
          },
          "execution_count": 17
        }
      ]
    },
    {
      "metadata": {
        "id": "lrGfWDkRCk-5",
        "colab_type": "code",
        "colab": {}
      },
      "cell_type": "code",
      "source": [
        "predictions = model.predict(test)"
      ],
      "execution_count": 0,
      "outputs": []
    },
    {
      "metadata": {
        "id": "V8pAdsVdFv7T",
        "colab_type": "code",
        "colab": {
          "base_uri": "https://localhost:8080/",
          "height": 35
        },
        "outputId": "0a1ccbc9-d8d4-43b0-fe22-b4e79f1d82d2"
      },
      "cell_type": "code",
      "source": [
        "predictions.shape"
      ],
      "execution_count": 19,
      "outputs": [
        {
          "output_type": "execute_result",
          "data": {
            "text/plain": [
              "(160, 40)"
            ]
          },
          "metadata": {
            "tags": []
          },
          "execution_count": 19
        }
      ]
    },
    {
      "metadata": {
        "id": "R5sqgqCwGD1L",
        "colab_type": "code",
        "colab": {}
      },
      "cell_type": "code",
      "source": [
        "wrong = 0\n",
        "for i in range(160):\n",
        "    if np.argmax(predictions[i]) != y_test[i]:\n",
        "        wrong+=1"
      ],
      "execution_count": 0,
      "outputs": []
    },
    {
      "metadata": {
        "id": "7dY96H_IGIU5",
        "colab_type": "code",
        "colab": {
          "base_uri": "https://localhost:8080/",
          "height": 35
        },
        "outputId": "7f9a8110-7e1c-48e8-a60e-9ec4dd97804e"
      },
      "cell_type": "code",
      "source": [
        "print('accuracy is',1.0-(wrong/160.0))"
      ],
      "execution_count": 21,
      "outputs": [
        {
          "output_type": "stream",
          "text": [
            "accuracy is 0.48750000000000004\n"
          ],
          "name": "stdout"
        }
      ]
    },
    {
      "metadata": {
        "id": "S4pv1ucbHf3J",
        "colab_type": "code",
        "colab": {}
      },
      "cell_type": "code",
      "source": [
        "reshaped_array = np.array([i.reshape(112,92,1) for i in train])"
      ],
      "execution_count": 0,
      "outputs": []
    },
    {
      "metadata": {
        "id": "GLJcDKA3HhTV",
        "colab_type": "code",
        "colab": {
          "base_uri": "https://localhost:8080/",
          "height": 35
        },
        "outputId": "b460eb31-9a93-456c-b2ad-8f9d7140926d"
      },
      "cell_type": "code",
      "source": [
        "reshaped_array.shape"
      ],
      "execution_count": 23,
      "outputs": [
        {
          "output_type": "execute_result",
          "data": {
            "text/plain": [
              "(240, 112, 92, 1)"
            ]
          },
          "metadata": {
            "tags": []
          },
          "execution_count": 23
        }
      ]
    },
    {
      "metadata": {
        "id": "8zFw1XxLKmGm",
        "colab_type": "code",
        "colab": {}
      },
      "cell_type": "code",
      "source": [
        "#Lets resize the images\n",
        "\n",
        "resized = tf.image.resize(reshaped_array, size=tf.constant([92,92]))"
      ],
      "execution_count": 0,
      "outputs": []
    },
    {
      "metadata": {
        "id": "kUPTnMCIKmKm",
        "colab_type": "code",
        "colab": {
          "base_uri": "https://localhost:8080/",
          "height": 35
        },
        "outputId": "e9edc6b2-6945-4c66-aa7d-47b3e493c4e1"
      },
      "cell_type": "code",
      "source": [
        "resized.shape"
      ],
      "execution_count": 25,
      "outputs": [
        {
          "output_type": "execute_result",
          "data": {
            "text/plain": [
              "TensorShape([240, 92, 92, 1])"
            ]
          },
          "metadata": {
            "tags": []
          },
          "execution_count": 25
        }
      ]
    },
    {
      "metadata": {
        "id": "W7otF6VCGdHg",
        "colab_type": "code",
        "colab": {}
      },
      "cell_type": "code",
      "source": [
        "# Lets try ConvNet\n",
        "\n",
        "\n",
        "conv_model =  keras.Sequential([\n",
        "    keras.layers.Conv2D(activation='relu',input_shape=(92,92,1), filters=5, kernel_size=(3,3)),\n",
        "    keras.layers.MaxPool2D(padding='valid'),\n",
        "    keras.layers.Conv2D(activation='relu', filters=7, kernel_size=(3,3)),\n",
        "    keras.layers.MaxPool2D(padding='valid'),\n",
        "    keras.layers.Flatten(),\n",
        "    keras.layers.Dense(units=40,activation='softmax')\n",
        "])"
      ],
      "execution_count": 0,
      "outputs": []
    },
    {
      "metadata": {
        "id": "A-IY2rfRIcQf",
        "colab_type": "code",
        "colab": {}
      },
      "cell_type": "code",
      "source": [
        "loss = 'sparse_categorical_crossentropy'\n",
        "opt = keras.optimizers.Adam(learning_rate=0.02)\n",
        "conv_model.compile(optimizer=opt, loss=loss)"
      ],
      "execution_count": 0,
      "outputs": []
    },
    {
      "metadata": {
        "id": "-wZMo4Z-Ir6O",
        "colab_type": "code",
        "colab": {
          "base_uri": "https://localhost:8080/",
          "height": 381
        },
        "outputId": "e65cf6ea-9af8-4530-a657-bc8a5ddee054"
      },
      "cell_type": "code",
      "source": [
        "conv_model.fit(resized, y_train, epochs=10,batch_size=40, verbose=1)"
      ],
      "execution_count": 28,
      "outputs": [
        {
          "output_type": "stream",
          "text": [
            "Epoch 1/10\n",
            "240/240 [==============================] - 1s 4ms/sample - loss: 3.6674\n",
            "Epoch 2/10\n",
            "240/240 [==============================] - 1s 3ms/sample - loss: 1.5174\n",
            "Epoch 3/10\n",
            "240/240 [==============================] - 1s 3ms/sample - loss: 0.1654\n",
            "Epoch 4/10\n",
            "240/240 [==============================] - 1s 3ms/sample - loss: 0.0169\n",
            "Epoch 5/10\n",
            "240/240 [==============================] - 1s 3ms/sample - loss: 0.0082\n",
            "Epoch 6/10\n",
            "240/240 [==============================] - 1s 3ms/sample - loss: 0.0021\n",
            "Epoch 7/10\n",
            "240/240 [==============================] - 1s 3ms/sample - loss: 1.0669e-04\n",
            "Epoch 8/10\n",
            "240/240 [==============================] - 1s 3ms/sample - loss: 5.5008e-05\n",
            "Epoch 9/10\n",
            "240/240 [==============================] - 1s 3ms/sample - loss: 4.2237e-05\n",
            "Epoch 10/10\n",
            "240/240 [==============================] - 1s 3ms/sample - loss: 3.3736e-05\n"
          ],
          "name": "stdout"
        },
        {
          "output_type": "execute_result",
          "data": {
            "text/plain": [
              "<tensorflow.python.keras.callbacks.History at 0x7f04a93bd7b8>"
            ]
          },
          "metadata": {
            "tags": []
          },
          "execution_count": 28
        }
      ]
    },
    {
      "metadata": {
        "id": "75P0KsxIIyB9",
        "colab_type": "code",
        "colab": {}
      },
      "cell_type": "code",
      "source": [
        "## Prediction time\n",
        "reshaped_test = np.array([i.reshape(112,92,1) for i in test])\n",
        "resized_test = tf.image.resize(reshaped_test, size=tf.constant([92,92]))"
      ],
      "execution_count": 0,
      "outputs": []
    },
    {
      "metadata": {
        "id": "EB4cM51aMjpr",
        "colab_type": "code",
        "colab": {}
      },
      "cell_type": "code",
      "source": [
        "predictions = conv_model.predict(resized_test)"
      ],
      "execution_count": 0,
      "outputs": []
    },
    {
      "metadata": {
        "id": "-8fWxMGWMusr",
        "colab_type": "code",
        "colab": {}
      },
      "cell_type": "code",
      "source": [
        "wrong = 0\n",
        "for i in range(160):\n",
        "    if np.argmax(predictions[i]) != y_test[i]:\n",
        "        wrong+=1"
      ],
      "execution_count": 0,
      "outputs": []
    },
    {
      "metadata": {
        "id": "8JaRgBYLM0yO",
        "colab_type": "code",
        "colab": {
          "base_uri": "https://localhost:8080/",
          "height": 35
        },
        "outputId": "732f4340-f7d1-42d4-ffce-faedcbc192b5"
      },
      "cell_type": "code",
      "source": [
        "print('accuracy is',1.0-(wrong/160.0))"
      ],
      "execution_count": 32,
      "outputs": [
        {
          "output_type": "stream",
          "text": [
            "accuracy is 0.8375\n"
          ],
          "name": "stdout"
        }
      ]
    },
    {
      "metadata": {
        "id": "H3HOJ5d_NHzy",
        "colab_type": "code",
        "colab": {}
      },
      "cell_type": "code",
      "source": [
        ""
      ],
      "execution_count": 0,
      "outputs": []
    },
    {
      "metadata": {
        "id": "16LTf1GwM3pi",
        "colab_type": "code",
        "colab": {
          "base_uri": "https://localhost:8080/",
          "height": 35
        },
        "outputId": "d52ac567-69c5-4ded-eb15-b96ac2473335"
      },
      "cell_type": "code",
      "source": [
        "wrong"
      ],
      "execution_count": 33,
      "outputs": [
        {
          "output_type": "execute_result",
          "data": {
            "text/plain": [
              "26"
            ]
          },
          "metadata": {
            "tags": []
          },
          "execution_count": 33
        }
      ]
    },
    {
      "metadata": {
        "id": "FCMc8BsfQ60o",
        "colab_type": "code",
        "colab": {}
      },
      "cell_type": "code",
      "source": [
        ""
      ],
      "execution_count": 0,
      "outputs": []
    }
  ]
}